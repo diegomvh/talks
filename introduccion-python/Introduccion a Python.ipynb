{
 "cells": [
  {
   "cell_type": "markdown",
   "metadata": {
    "collapsed": false,
    "slideshow": {
     "slide_type": "slide"
    }
   },
   "source": [
    "# Introducción a Python"
   ]
  },
  {
   "cell_type": "markdown",
   "metadata": {
    "collapsed": true,
    "slideshow": {
     "slide_type": "slide"
    }
   },
   "source": [
    "# Contexto\n",
    "\n",
    "* Guido van Rosum / 1991 / Código abierto\n",
    "* Interpretado\n",
    "* Tipado dinámico y fuerte\n",
    "* Multiparadigma (objetos, imperativo, funcional)\n",
    "* Multiplataforma"
   ]
  },
  {
   "cell_type": "markdown",
   "metadata": {
    "slideshow": {
     "slide_type": "fragment"
    }
   },
   "source": [
    "* Divertido"
   ]
  },
  {
   "cell_type": "markdown",
   "metadata": {
    "slideshow": {
     "slide_type": "slide"
    }
   },
   "source": [
    "# Interpretado\n",
    "\n",
    "* Interactivo\n",
    "* Scripting"
   ]
  },
  {
   "cell_type": "markdown",
   "metadata": {
    "slideshow": {
     "slide_type": "slide"
    }
   },
   "source": [
    "# Sintaxis\n",
    "\n",
    "* Indentación\n"
   ]
  },
  {
   "cell_type": "markdown",
   "metadata": {
    "slideshow": {
     "slide_type": "slide"
    }
   },
   "source": [
    "# Tipos\n",
    "\n",
    "* Números\n",
    "* None\n",
    "* Boleanos\n",
    "* Strings\n",
    "* Listas\n",
    "* Tuplas\n",
    "* Conjuntos\n",
    "* Diccionarios"
   ]
  },
  {
   "cell_type": "markdown",
   "metadata": {
    "slideshow": {
     "slide_type": "slide"
    }
   },
   "source": [
    "# Operaciones\n",
    "\n",
    "* Lógicas\n",
    "* Numericas\n",
    "* Comparacion"
   ]
  },
  {
   "cell_type": "markdown",
   "metadata": {
    "slideshow": {
     "slide_type": "slide"
    }
   },
   "source": [
    "# Funciones\n",
    "\n",
    "* Parámetros\n",
    "   * Posicionales\n",
    "   * Variables\n",
    "   * Nombrados\n",
    "* Documentacion\n",
    "* Lambdas"
   ]
  },
  {
   "cell_type": "markdown",
   "metadata": {
    "slideshow": {
     "slide_type": "slide"
    }
   },
   "source": [
    "# Objetos\n",
    "\n",
    "* Todo es un objeto\n",
    "* Todo es público\n",
    "* Herencia multiple\n",
    "* Métodos"
   ]
  },
  {
   "cell_type": "markdown",
   "metadata": {
    "slideshow": {
     "slide_type": "slide"
    }
   },
   "source": [
    "# Donde\n",
    "\n",
    "* Web\n",
    "* GUI\n",
    "* Juegos\n",
    "PyPI. Repositorio de paquetes de software de terceros para Python.\n",
    "Django. Framework de desarrollo web.\n",
    "CubicWeb. Framework de desarrollo web en plataforma Semántica.\n",
    "Pygame. Conjunto de módulos para la creación de videojuegos en dos dimensiones.\n",
    "Tkinter. Binding de la biblioteca gráfica Tcl/Tk para Python.\n",
    "PyGTK. Binding de la biblioteca gráfica GTK para Python.\n",
    "wxPython. Binding de la biblioteca gráfica wxWidgets para Python.\n",
    "PyQt. Binding de la biblioteca gráfica Qt para Python.\n",
    "PySide. Binding de la biblioteca gráfica Qt para Python por Nokia.\n",
    "Plone. Sistema de gestión de contenidos.\n",
    "Biopython, Colección de bibliotecas orientadas a la bioinformática para Python."
   ]
  }
 ],
 "metadata": {
  "celltoolbar": "Slideshow",
  "kernelspec": {
   "display_name": "Python 3",
   "language": "python",
   "name": "python3"
  },
  "language_info": {
   "codemirror_mode": {
    "name": "ipython",
    "version": 3
   },
   "file_extension": ".py",
   "mimetype": "text/x-python",
   "name": "python",
   "nbconvert_exporter": "python",
   "pygments_lexer": "ipython3",
   "version": "3.4.3"
  }
 },
 "nbformat": 4,
 "nbformat_minor": 0
}
