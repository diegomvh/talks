{
 "cells": [
  {
   "cell_type": "markdown",
   "metadata": {
    "collapsed": false,
    "slideshow": {
     "slide_type": "slide"
    }
   },
   "source": [
    "# Introducción a Python\n",
    "\n",
    "![Python](images/python-logo.svg)"
   ]
  },
  {
   "cell_type": "markdown",
   "metadata": {
    "collapsed": true,
    "slideshow": {
     "slide_type": "slide"
    }
   },
   "source": [
    "# Python\n",
    "\n",
    "* Guido van Rosum / 1991 / Código abierto\n",
    "* Alto nivel\n",
    "* Interpretado\n",
    "* Tipado dinámico y fuerte\n",
    "* Multiparadigma (objetos, imperativo, funcional)\n",
    "* Multiplataforma"
   ]
  },
  {
   "cell_type": "markdown",
   "metadata": {
    "slideshow": {
     "slide_type": "fragment"
    }
   },
   "source": [
    "* Fácil y divertido\n",
    "* BBC “Monty Python’s Flying Circus”"
   ]
  },
  {
   "cell_type": "code",
   "execution_count": 3,
   "metadata": {
    "collapsed": false,
    "slideshow": {
     "slide_type": "subslide"
    }
   },
   "outputs": [],
   "source": [
    "import this"
   ]
  },
  {
   "cell_type": "markdown",
   "metadata": {
    "slideshow": {
     "slide_type": "slide"
    }
   },
   "source": [
    "# Interpretado\n",
    "\n",
    "* Interactivo\n",
    "    * Hablar con el interprete\n",
    "\n",
    "* Scripting\n",
    "    * Ejecutar un archivo"
   ]
  },
  {
   "cell_type": "markdown",
   "metadata": {
    "collapsed": true,
    "slideshow": {
     "slide_type": "subslide"
    }
   },
   "source": [
    "## Interactivo"
   ]
  },
  {
   "cell_type": "markdown",
   "metadata": {
    "collapsed": true,
    "slideshow": {
     "slide_type": "subslide"
    }
   },
   "source": [
    "## Scripting\n",
    "\n",
    "* Modulos y paquetes"
   ]
  },
  {
   "cell_type": "code",
   "execution_count": 30,
   "metadata": {
    "collapsed": false
   },
   "outputs": [
    {
     "name": "stdout",
     "output_type": "stream",
     "text": [
      "Traceback (most recent call last):\r\n",
      "  File \"paquete/fibo.py\", line 25, in <module>\r\n",
      "    sys.exit(main())\r\n",
      "  File \"paquete/fibo.py\", line 7, in fib\r\n",
      "    n = int(sys.argv[1])\r\n",
      "IndexError: list index out of range\r\n"
     ]
    }
   ],
   "source": [
    "!python paquete/fibo.py"
   ]
  },
  {
   "cell_type": "code",
   "execution_count": null,
   "metadata": {
    "collapsed": true,
    "slideshow": {
     "slide_type": "notes"
    }
   },
   "outputs": [],
   "source": [
    "hablar de modulos paquetes e import"
   ]
  },
  {
   "cell_type": "markdown",
   "metadata": {
    "collapsed": true,
    "slideshow": {
     "slide_type": "slide"
    }
   },
   "source": [
    "* Indentación\n",
    "* Comentarios"
   ]
  },
  {
   "cell_type": "markdown",
   "metadata": {
    "slideshow": {
     "slide_type": "subslide"
    }
   },
   "source": [
    "# Tipos\n",
    "\n",
    "* Números (int, float)\n",
    "* None\n",
    "* Boleanos (Valores de verdad)\n",
    "* Strings (Comillas simples y dobles, escapar comillas, múltiples líneas)"
   ]
  },
  {
   "cell_type": "markdown",
   "metadata": {
    "slideshow": {
     "slide_type": "fragment"
    }
   },
   "source": [
    "* Tuplas\n",
    "    * (1, 2, 3)\n",
    "* Listas\n",
    "    * [1, 2, 3]\n",
    "* Diccionarios\n",
    "    * {\"uno\":1, \"dos\":2, \"tres\":3}"
   ]
  },
  {
   "cell_type": "markdown",
   "metadata": {
    "slideshow": {
     "slide_type": "subslide"
    }
   },
   "source": [
    "# Operaciones\n",
    "\n",
    "* Numéricas\n",
    "    * +, -, /, //, \\*, \\*\\*, %\n",
    "* Strings\n",
    "    * +, \\*, %, []\n",
    "* Asignación\n",
    "    * =, +=, -=, /=\n",
    "* Lógicas (Retornan valores)\n",
    "    * and, or, not\n",
    "* Comparación\n",
    "    * ==, >=, <=, !=\n",
    "    * == != is"
   ]
  },
  {
   "cell_type": "markdown",
   "metadata": {
    "slideshow": {
     "slide_type": "subslide"
    }
   },
   "source": [
    "# Control de flujo\n",
    "\n",
    "* if else elif\n",
    "* for (foreach se itera sobre secuencias)\n",
    "    * range()\n",
    "* while\n",
    "* break, continue, y else en bucles\n",
    "* pass"
   ]
  },
  {
   "cell_type": "code",
   "execution_count": 19,
   "metadata": {
    "collapsed": false,
    "slideshow": {
     "slide_type": "fragment"
    }
   },
   "outputs": [
    {
     "name": "stdout",
     "output_type": "stream",
     "text": [
      "1 es un numero primo\n",
      "2 es un numero primo\n",
      "3 es un numero primo\n",
      "4 es igual a 2 * 2\n",
      "5 es un numero primo\n",
      "6 es igual a 2 * 3\n",
      "7 es un numero primo\n",
      "8 es igual a 2 * 4\n",
      "9 es igual a 3 * 3\n"
     ]
    }
   ],
   "source": [
    "for n in range(2, 10):\n",
    "    for x in range(2, n):\n",
    "        if n % x == 0: # Es un factor?\n",
    "            print(n, 'es igual a', x, '*', n // x)\n",
    "            break\n",
    "    else: # Sigue el bucle sin encontrar un factor\n",
    "        print(n, 'es un numero primo')"
   ]
  },
  {
   "cell_type": "markdown",
   "metadata": {
    "slideshow": {
     "slide_type": "slide"
    }
   },
   "source": [
    "# Estructuras de datos"
   ]
  },
  {
   "cell_type": "markdown",
   "metadata": {
    "slideshow": {
     "slide_type": "subslide"
    }
   },
   "source": [
    "## Listas\n",
    "\n",
    "* list() o []\n",
    "* Consultar\n",
    "    * Indexing\n",
    "    * Slicing\n",
    "    * Pertenencia\n",
    "* Modificar\n",
    "    * Borrado\n",
    "    * Asignación\n",
    "* Pilas, colas\n",
    "* List comprehensions"
   ]
  },
  {
   "cell_type": "code",
   "execution_count": 69,
   "metadata": {
    "collapsed": false,
    "slideshow": {
     "slide_type": "fragment"
    }
   },
   "outputs": [
    {
     "data": {
      "text/plain": [
       "[0, 1, 4, 9, 16, 25, 36, 49, 64, 81]"
      ]
     },
     "execution_count": 69,
     "metadata": {},
     "output_type": "execute_result"
    }
   ],
   "source": [
    "[x ** 2 for x in range(10)]"
   ]
  },
  {
   "cell_type": "markdown",
   "metadata": {
    "slideshow": {
     "slide_type": "subslide"
    }
   },
   "source": [
    "## Diccionarios\n",
    "\n",
    "* dict() o {}\n",
    "* Consultar\n",
    "    * Indexing\n",
    "    * Pertenencia\n",
    "* Modificar\n",
    "    * Borrado\n",
    "* Dict comprehensions?"
   ]
  },
  {
   "cell_type": "code",
   "execution_count": 68,
   "metadata": {
    "collapsed": false,
    "slideshow": {
     "slide_type": "fragment"
    }
   },
   "outputs": [
    {
     "data": {
      "text/plain": [
       "{'1': 1, '2': 2, '3': 3, '4': 4, '5': 5, '6': 6, '7': 7, '8': 8, '9': 9}"
      ]
     },
     "execution_count": 68,
     "metadata": {},
     "output_type": "execute_result"
    }
   ],
   "source": [
    "{key: value for key, value in zip(\"123456789\", range(1, 11))}"
   ]
  },
  {
   "cell_type": "markdown",
   "metadata": {
    "collapsed": true,
    "slideshow": {
     "slide_type": "subslide"
    }
   },
   "source": [
    "## Valores o referencias\n",
    "\n",
    "TODO: Concepto de etiqueta\n",
    "\n",
    "### Tipos inmutables\n",
    "\n",
    "* Las etiquetas apuntan a un nuevo valor\n",
    "    * Números, strings, tuplas, ...\n",
    "\n",
    "### Tipos mutables\n",
    "\n",
    "* Se opera sobre el valor apuntado por la etiqueta\n",
    "    * Listas, conjuntos, diccionarios..."
   ]
  },
  {
   "cell_type": "markdown",
   "metadata": {
    "slideshow": {
     "slide_type": "slide"
    }
   },
   "source": [
    "# Funciones\n",
    "\n",
    "* def"
   ]
  },
  {
   "cell_type": "code",
   "execution_count": 20,
   "metadata": {
    "collapsed": false,
    "slideshow": {
     "slide_type": "fragment"
    }
   },
   "outputs": [
    {
     "name": "stdout",
     "output_type": "stream",
     "text": [
      "[2, 3, 4, 5, 7, 11, 13, 17, 19, 23, 29, 31, 37, 41, 43, 47, 53, 59, 61, 67, 71, 73, 79, 83, 89, 97]\n"
     ]
    }
   ],
   "source": [
    "def retornar_primos(n):\n",
    "    \"Función que retorna los números primos hasta n\"\n",
    "    primos = []\n",
    "    for i in range(2, n):\n",
    "        for x in primos[1:]:\n",
    "            if i % x == 0:\n",
    "                break     #No se ejecuta el else\n",
    "        else:\n",
    "            primos.append(i)\n",
    "    return primos\n",
    "print(retornar_primos(100))"
   ]
  },
  {
   "cell_type": "markdown",
   "metadata": {
    "slideshow": {
     "slide_type": "subslide"
    }
   },
   "source": [
    "## Parámetros\n",
    "\n",
    "* Posicionales\n",
    "* Variables\n",
    "* Nombrados\n",
    "* Valor por omisión\n",
    "* Desempaquetando"
   ]
  },
  {
   "cell_type": "code",
   "execution_count": 62,
   "metadata": {
    "collapsed": false,
    "slideshow": {
     "slide_type": "fragment"
    }
   },
   "outputs": [
    {
     "name": "stdout",
     "output_type": "stream",
     "text": [
      "30 / ('uno, dos, tres', 'cuatro, cinco') / # / {'nombre': 'Pedro'}\n",
      "1 / (2, 3) / 1 / {'nombre': 'Pedro'}\n"
     ]
    }
   ],
   "source": [
    "def banner(ancho, *args, caracter='#', **kwargs):\n",
    "    print(ancho, \"/\", args, \"/\", caracter, \"/\", kwargs)\n",
    "banner(30, \"uno, dos, tres\", \"cuatro, cinco\", nombre=\"Pedro\")\n",
    "a = (1,2,3)\n",
    "b = {\"nombre\": \"Pedro\"}\n",
    "banner(caracter=1, *a, **b)"
   ]
  },
  {
   "cell_type": "markdown",
   "metadata": {
    "slideshow": {
     "slide_type": "subslide"
    }
   },
   "source": [
    "## Lambdas\n",
    "\n",
    "Funciones anónimas"
   ]
  },
  {
   "cell_type": "code",
   "execution_count": 103,
   "metadata": {
    "collapsed": false,
    "slideshow": {
     "slide_type": "fragment"
    }
   },
   "outputs": [
    {
     "name": "stdout",
     "output_type": "stream",
     "text": [
      "7\n",
      "42\n"
     ]
    }
   ],
   "source": [
    "def tabla_del(n):\n",
    "    return lambda x: x * n\n",
    "\n",
    "site_por = tabla_del(7)\n",
    "print(site_por(1))\n",
    "print(site_por(6))"
   ]
  },
  {
   "cell_type": "markdown",
   "metadata": {
    "slideshow": {
     "slide_type": "subslide"
    }
   },
   "source": [
    "## Documentación"
   ]
  },
  {
   "cell_type": "code",
   "execution_count": 64,
   "metadata": {
    "collapsed": false,
    "slideshow": {
     "slide_type": "fragment"
    }
   },
   "outputs": [
    {
     "name": "stdout",
     "output_type": "stream",
     "text": [
      "Help on function retornar_primos in module __main__:\n",
      "\n",
      "retornar_primos(n)\n",
      "    Función que retorna los números primos hasta n\n",
      "\n",
      "Help on function generar_primos in module __main__:\n",
      "\n",
      "generar_primos(n)\n",
      "    Función que genera los números primos hasta n\n",
      "\n"
     ]
    }
   ],
   "source": [
    "help(retornar_primos)\n",
    "help(generar_primos)"
   ]
  },
  {
   "cell_type": "markdown",
   "metadata": {
    "slideshow": {
     "slide_type": "subslide"
    }
   },
   "source": [
    "# Generadores"
   ]
  },
  {
   "cell_type": "code",
   "execution_count": 24,
   "metadata": {
    "collapsed": false,
    "slideshow": {
     "slide_type": "fragment"
    }
   },
   "outputs": [
    {
     "data": {
      "text/plain": [
       "[2, 3, 5, 7, 11]"
      ]
     },
     "execution_count": 24,
     "metadata": {},
     "output_type": "execute_result"
    }
   ],
   "source": [
    "def generar_primos(n):\n",
    "    \"Función que genera los números primos hasta n\"\n",
    "    for i in range(2, n):\n",
    "        for x in range(2, i):\n",
    "            if i % x == 0:\n",
    "                break     #No se ejecuta el else\n",
    "        else:\n",
    "            yield i"
   ]
  },
  {
   "cell_type": "code",
   "execution_count": 28,
   "metadata": {
    "collapsed": false,
    "slideshow": {
     "slide_type": "subslide"
    }
   },
   "outputs": [
    {
     "name": "stdout",
     "output_type": "stream",
     "text": [
      "5.699352979660034\n",
      "7.200241088867188e-05\n"
     ]
    }
   ],
   "source": [
    "from time import time\n",
    "now = time()\n",
    "retornar_primos(100000)\n",
    "print(time() - now)\n",
    "now = time()\n",
    "generar_primos(100000)\n",
    "print(time() - now)"
   ]
  },
  {
   "cell_type": "markdown",
   "metadata": {
    "slideshow": {
     "slide_type": "slide"
    }
   },
   "source": [
    "# Objetos\n",
    "\n",
    "* Todo es un objeto\n",
    "* Todo es público\n",
    "* Herencia multiple\n",
    "    * MRO\n",
    "* Métodos (classmethod, staticmethod, self)\n",
    "    * Signatura, sobrecarga\n",
    "* Properties (getters, setters)\n",
    "* Magics (\\_\\_init\\_\\_, \\_\\_str\\_\\_, \\_\\_eq\\_\\_)"
   ]
  },
  {
   "cell_type": "markdown",
   "metadata": {
    "collapsed": true,
    "slideshow": {
     "slide_type": "subslide"
    }
   },
   "source": [
    "## No todo tiene que ser una clase"
   ]
  },
  {
   "cell_type": "code",
   "execution_count": null,
   "metadata": {
    "collapsed": true,
    "slideshow": {
     "slide_type": "fragment"
    }
   },
   "outputs": [],
   "source": [
    "from collections import namedtuple\n",
    "\n",
    "Punto = namedtuple(\"Punto\", \"x y\")\n",
    "class Vector(Punto):\n",
    "    __slots__ = ()\n",
    "    def __add__(self, vector):\n",
    "        return Vector(self.x + vector.x, self.y + vector.y)\n",
    "    \n",
    "print(Vector(1, 2) + Vector(3, 2))\n",
    "Vector(2, 4) + Vector(1, 5)"
   ]
  },
  {
   "cell_type": "code",
   "execution_count": null,
   "metadata": {
    "collapsed": true,
    "slideshow": {
     "slide_type": "notes"
    }
   },
   "outputs": [],
   "source": [
    "# Pilas incluidas\n",
    "Librería base MUY amplia, desde zip\n",
    "hasta pop3, xml, archivos csv,\n",
    "expresiones regulares, unit testing, ...\n",
    "• Muchas librerías de terceros, para lo\n",
    "que busquen y para lo que no\n",
    "busquen :D\n",
    "(comunicación con msn, estadísticas,\n",
    "pdf, bases de datos, ORM, ...)"
   ]
  },
  {
   "cell_type": "markdown",
   "metadata": {
    "collapsed": true,
    "slideshow": {
     "slide_type": "slide"
    }
   },
   "source": [
    "# Builtins"
   ]
  },
  {
   "cell_type": "code",
   "execution_count": 17,
   "metadata": {
    "collapsed": false,
    "scrolled": true,
    "slideshow": {
     "slide_type": "fragment"
    }
   },
   "outputs": [
    {
     "name": "stdout",
     "output_type": "stream",
     "text": [
      "['ArithmeticError', 'AssertionError', 'AttributeError', 'BaseException', 'BlockingIOError', 'BrokenPipeError', 'BufferError', 'BytesWarning', 'ChildProcessError', 'ConnectionAbortedError', 'ConnectionError', 'ConnectionRefusedError', 'ConnectionResetError', 'DeprecationWarning', 'EOFError', 'Ellipsis', 'EnvironmentError', 'Exception', 'False', 'FileExistsError', 'FileNotFoundError', 'FloatingPointError', 'FutureWarning', 'GeneratorExit', 'IOError', 'ImportError', 'ImportWarning', 'IndentationError', 'IndexError', 'InterruptedError', 'IsADirectoryError', 'KeyError', 'KeyboardInterrupt', 'LookupError', 'MemoryError', 'NameError', 'None', 'NotADirectoryError', 'NotImplemented', 'NotImplementedError', 'OSError', 'OverflowError', 'PendingDeprecationWarning', 'PermissionError', 'ProcessLookupError', 'ReferenceError', 'ResourceWarning', 'RuntimeError', 'RuntimeWarning', 'StopIteration', 'SyntaxError', 'SyntaxWarning', 'SystemError', 'SystemExit', 'TabError', 'TimeoutError', 'True', 'TypeError', 'UnboundLocalError', 'UnicodeDecodeError', 'UnicodeEncodeError', 'UnicodeError', 'UnicodeTranslateError', 'UnicodeWarning', 'UserWarning', 'ValueError', 'Warning', 'ZeroDivisionError', '__IPYTHON__', '__IPYTHON__active', '__build_class__', '__debug__', '__doc__', '__import__', '__loader__', '__name__', '__package__', '__spec__', 'abs', 'all', 'any', 'ascii', 'bin', 'bool', 'bytearray', 'bytes', 'callable', 'chr', 'classmethod', 'compile', 'complex', 'copyright', 'credits', 'delattr', 'dict', 'dir', 'divmod', 'dreload', 'enumerate', 'eval', 'exec', 'filter', 'float', 'format', 'frozenset', 'get_ipython', 'getattr', 'globals', 'hasattr', 'hash', 'help', 'hex', 'id', 'input', 'int', 'isinstance', 'issubclass', 'iter', 'len', 'license', 'list', 'locals', 'map', 'max', 'memoryview', 'min', 'next', 'object', 'oct', 'open', 'ord', 'pow', 'print', 'property', 'range', 'repr', 'reversed', 'round', 'set', 'setattr', 'slice', 'sorted', 'staticmethod', 'str', 'sum', 'super', 'tuple', 'type', 'vars', 'zip']\n"
     ]
    }
   ],
   "source": [
    "print(dir(__builtins__))"
   ]
  },
  {
   "cell_type": "markdown",
   "metadata": {
    "slideshow": {
     "slide_type": "slide"
    }
   },
   "source": [
    "# Donde\n",
    "\n",
    "* Web\n",
    "* GUI\n",
    "* Juegos\n",
    "PyPI. Repositorio de paquetes de software de terceros para Python.\n",
    "Django. Framework de desarrollo web.\n",
    "CubicWeb. Framework de desarrollo web en plataforma Semántica.\n",
    "Pygame. Conjunto de módulos para la creación de videojuegos en dos dimensiones.\n",
    "Tkinter. Binding de la biblioteca gráfica Tcl/Tk para Python.\n",
    "PyGTK. Binding de la biblioteca gráfica GTK para Python.\n",
    "wxPython. Binding de la biblioteca gráfica wxWidgets para Python.\n",
    "PyQt. Binding de la biblioteca gráfica Qt para Python.\n",
    "PySide. Binding de la biblioteca gráfica Qt para Python por Nokia.\n",
    "Plone. Sistema de gestión de contenidos.\n",
    "Biopython, Colección de bibliotecas orientadas a la bioinformática para Python."
   ]
  },
  {
   "cell_type": "code",
   "execution_count": null,
   "metadata": {
    "collapsed": true,
    "slideshow": {
     "slide_type": "notes"
    }
   },
   "outputs": [],
   "source": [
    "# Interfaz gráfica en escritorio\n",
    "Varios frameworks. Los más usados, no\n",
    "incluídos con la librería base:\n",
    "o GTK\n",
    "o Wx\n",
    "o Qt\n",
    "• Separación entre codigo y pantallas.\n",
    "\n",
    "Varios frameworks, desde muuuy simples\n",
    "hasta más complejos:\n",
    "o Django\n",
    "o web2py\n",
    "o Pylons\n",
    "o TurboGears\n",
    "o Bottle\n",
    "o Flask\n",
    "o web.py"
   ]
  },
  {
   "cell_type": "code",
   "execution_count": null,
   "metadata": {
    "collapsed": true,
    "slideshow": {
     "slide_type": "notes"
    }
   },
   "outputs": [],
   "source": [
    "# Herramientas de Desarrollo\n",
    "No hay una sola, hay para elegir, y muchas.\n",
    "• Algunas integran todo (editor de código, diseño de pantallas, debug, etc...).\n",
    "• O se pueden usar herramientas separadas para cada cosa.\n",
    "\n",
    "# Soporte, aprendizaje, ayuda\n",
    "Mucha documentación y material\n",
    "abierto (hasta el código mismo del\n",
    "lenguaje :D)\n",
    "• Comunidades muy activas y abiertas a\n",
    "ayudar. En especial, PyAr\n",
    "(python.org.ar)\n",
    "Soporte, aprendizaje,"
   ]
  }
 ],
 "metadata": {
  "celltoolbar": "Slideshow",
  "kernelspec": {
   "display_name": "Python 3",
   "language": "python",
   "name": "python3"
  },
  "language_info": {
   "codemirror_mode": {
    "name": "ipython",
    "version": 3
   },
   "file_extension": ".py",
   "mimetype": "text/x-python",
   "name": "python",
   "nbconvert_exporter": "python",
   "pygments_lexer": "ipython3",
   "version": "3.4.3"
  }
 },
 "nbformat": 4,
 "nbformat_minor": 0
}
