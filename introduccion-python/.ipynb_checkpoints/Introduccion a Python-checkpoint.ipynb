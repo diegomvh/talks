{
 "cells": [
  {
   "cell_type": "markdown",
   "metadata": {
    "collapsed": false,
    "slideshow": {
     "slide_type": "slide"
    }
   },
   "source": [
    "# Introducción a Python\n",
    "\n",
    "![Python](images/python-logo.svg)"
   ]
  },
  {
   "cell_type": "markdown",
   "metadata": {
    "collapsed": true,
    "slideshow": {
     "slide_type": "slide"
    }
   },
   "source": [
    "# Python\n",
    "\n",
    "* Guido van Rosum / 1991 / Código abierto\n",
    "* Alto nivel\n",
    "* Interpretado\n",
    "* Tipado dinámico y fuerte\n",
    "* Multiparadigma (objetos, imperativo, funcional)\n",
    "* Multiplataforma"
   ]
  },
  {
   "cell_type": "markdown",
   "metadata": {
    "slideshow": {
     "slide_type": "fragment"
    }
   },
   "source": [
    "* Fácil y divertido\n",
    "* BBC “Monty Python’s Flying Circus”"
   ]
  },
  {
   "cell_type": "code",
   "execution_count": 3,
   "metadata": {
    "collapsed": false,
    "slideshow": {
     "slide_type": "subslide"
    }
   },
   "outputs": [],
   "source": [
    "import this"
   ]
  },
  {
   "cell_type": "markdown",
   "metadata": {
    "slideshow": {
     "slide_type": "slide"
    }
   },
   "source": [
    "# Interpretado\n",
    "\n",
    "* Interactivo\n",
    "> Hablar con el interprete\n",
    "\n",
    "* Scripting\n",
    "> Ejecutar un archivo"
   ]
  },
  {
   "cell_type": "code",
   "execution_count": null,
   "metadata": {
    "collapsed": true,
    "slideshow": {
     "slide_type": "subslide"
    }
   },
   "outputs": [],
   "source": [
    "## Interactivo"
   ]
  },
  {
   "cell_type": "code",
   "execution_count": null,
   "metadata": {
    "collapsed": true,
    "slideshow": {
     "slide_type": "subslide"
    }
   },
   "outputs": [],
   "source": [
    "## Scripting"
   ]
  },
  {
   "cell_type": "code",
   "execution_count": null,
   "metadata": {
    "collapsed": true,
    "slideshow": {
     "slide_type": "notes"
    }
   },
   "outputs": [],
   "source": [
    "hablar de modulos paquetes e import"
   ]
  },
  {
   "cell_type": "markdown",
   "metadata": {
    "slideshow": {
     "slide_type": "slide"
    }
   },
   "source": [
    "# Sintaxis\n",
    "\n",
    "* Indentación\n",
    "* Sentencia if else elif\n",
    "* Sentencia for\n",
    "* Sentencia while\n",
    "* Sentencias break, continue, y else en bucles\n",
    "* Sentencia pass"
   ]
  },
  {
   "cell_type": "code",
   "execution_count": null,
   "metadata": {
    "collapsed": true,
    "slideshow": {
     "slide_type": "notes"
    }
   },
   "outputs": [],
   "source": [
    "# Sintaxis\n",
    "Bloques por indentación\n",
    "El viejo y querido “if” (y versión compacta)\n",
    "Ciclos for (solo “foreach”)\n",
    "Ciclos while\n",
    "Try\n",
    "Imports\n",
    "Funciones"
   ]
  },
  {
   "cell_type": "markdown",
   "metadata": {
    "slideshow": {
     "slide_type": "slide"
    }
   },
   "source": [
    "# Tipos\n",
    "\n",
    "* Números\n",
    "* None\n",
    "* Boleanos\n",
    "* Strings\n",
    "* Listas\n",
    "* Tuplas\n",
    "* Conjuntos\n",
    "* Diccionarios"
   ]
  },
  {
   "cell_type": "code",
   "execution_count": null,
   "metadata": {
    "collapsed": true,
    "slideshow": {
     "slide_type": "notes"
    }
   },
   "outputs": [],
   "source": [
    "# Tipos basicos\n",
    "Números: igual que siempre\n",
    "• Nulo: None\n",
    "• Boleanos: True, False, (y guarda!!,\n",
    "muchas otras cosas no booleanas son\n",
    "verdaderas! Ej: if “hola”)\n",
    "• Strings: “a”, 'a', “””a“””, '''a'''\n",
    "• Conjuntos, Diccionarios, Tuplas\n",
    "• Listas merecen más detalle"
   ]
  },
  {
   "cell_type": "markdown",
   "metadata": {
    "slideshow": {
     "slide_type": "slide"
    }
   },
   "source": [
    "# Operaciones\n",
    "\n",
    "* Lógicas\n",
    "* Numericas\n",
    "* Comparacion"
   ]
  },
  {
   "cell_type": "code",
   "execution_count": null,
   "metadata": {
    "collapsed": true,
    "slideshow": {
     "slide_type": "notes"
    }
   },
   "outputs": [],
   "source": [
    "# Operaciones comunes\n",
    "Lógicas\n",
    "o and, or, not. Y devuelven valores!\n",
    "• Números:\n",
    "o + - / * ** %\n",
    "• Comparación:\n",
    "o las mismas de siempre\n",
    "• El polémico “is”\n",
    "Operaciones comunes"
   ]
  },
  {
   "cell_type": "markdown",
   "metadata": {
    "slideshow": {
     "slide_type": "slide"
    }
   },
   "source": [
    "# Funciones\n",
    "\n",
    "* Parámetros\n",
    "   * Posicionales\n",
    "   * Variables\n",
    "   * Nombrados\n",
    "* Documentacion\n",
    "* Lambdas"
   ]
  },
  {
   "cell_type": "code",
   "execution_count": null,
   "metadata": {
    "collapsed": true,
    "slideshow": {
     "slide_type": "notes"
    }
   },
   "outputs": [],
   "source": [
    "# Mas sobre funciones\n",
    "Parámetros\n",
    "o opcionales\n",
    "o nombrados\n",
    "o sin saber la cantidad\n",
    "• Docstrings!!\n",
    "• Lambdas\n",
    "Más sobre f"
   ]
  },
  {
   "cell_type": "code",
   "execution_count": null,
   "metadata": {
    "collapsed": true,
    "slideshow": {
     "slide_type": "notes"
    }
   },
   "outputs": [],
   "source": [
    "Valores o referencias\n",
    "Tipos inmutables:\n",
    "o “apunto a un nuevo objeto”\n",
    "o Números, strings, ...\n",
    "• Tipos mutables:\n",
    "o Pueden cambiar el valor y seguir\n",
    "siendo el mismo objeto\n",
    "o Listas, clases del usuario,\n",
    "diccionarios...\n",
    "Valores o Referencias???"
   ]
  },
  {
   "cell_type": "code",
   "execution_count": null,
   "metadata": {
    "collapsed": true,
    "slideshow": {
     "slide_type": "notes"
    }
   },
   "outputs": [],
   "source": [
    "Listas y strings\n",
    "Consultando:\n",
    "o Slicing (bastante útil)\n",
    "o Pertenencia\n",
    "• Modificandolas:\n",
    "o Borrado (bastante diferente)\n",
    "o Asignación (bastante útil)\n",
    "• List comprehensions"
   ]
  },
  {
   "cell_type": "code",
   "execution_count": 77,
   "metadata": {
    "collapsed": false,
    "slideshow": {
     "slide_type": "slide"
    }
   },
   "outputs": [
    {
     "name": "stdout",
     "output_type": "stream",
     "text": [
      "1, 2, 3, 5, 7, 11, 13, 17, 19, 23, 29, 31, 37, 41, 43, 47, 53, 59, 61, 67, 71, 73, 79, 83, 89, 97, 101, 103, 107, 109, 113, 127, 131, 137, 139, 149, 151, 157, 163, 167, 173, 179, 181, 191, 193, 197, 199, 211, 223, 227, 229, 233, 239, 241, 251, 257, 263, 269, 271, 277, 281, 283, 293, 307, 311, 313, 317, 331, 337, 347, 349, 353, 359, 367, 373, 379, 383, 389, 397, 401, 409, 419, 421, 431, 433, 439, 443, 449, 457, 461, 463, 467, 479, 487, 491, 499, 503, 509, 521, 523, 541, 547, 557, 563, 569, 571, 577, 587, 593, 599, 601, 607, 613, 617, 619, 631, 641, 643, 647, 653, 659, 661, 673, 677, 683, 691, 701, 709, 719, 727, 733, 739, 743, 751, 757, 761, 769, 773, 787, 797, 809, 811, 821, 823, 827, 829, 839, 853, 857, 859, 863, 877, 881, 883, 887, 907, 911, 919, 929, 937, 941, 947, 953, 967, 971, 977, 983, 991, 997, 1009, 1013, 1019, 1021, 1031, 1033, 1039, 1049, 1051, 1061, 1063, 1069, 1087, 1091, 1093, 1097, 1103, 1109, 1117, 1123, 1129, 1151, 1153, 1163, 1171, 1181, 1187, 1193, 1201, 1213, 1217, 1223, 1229, 1231, 1237, 1249, 1259, 1277, 1279, 1283, 1289, 1291, 1297, \n",
      "0.01502370834350586\n"
     ]
    }
   ],
   "source": [
    "from time import time\n",
    "def primos(n):\n",
    "    \"Función que calcula los números primos hasta n\"\n",
    "    for i in range(1, n):\n",
    "        for x in range(2, i):\n",
    "            if i % x == 0:\n",
    "                break     #No se ejecuta el else\n",
    "        else:\n",
    "            print(i, end=\", \")\n",
    "\n",
    "now = time()\n",
    "primos(1300), print()\n",
    "print(time() - now)"
   ]
  },
  {
   "cell_type": "code",
   "execution_count": 78,
   "metadata": {
    "collapsed": false,
    "slideshow": {
     "slide_type": "slide"
    }
   },
   "outputs": [
    {
     "name": "stdout",
     "output_type": "stream",
     "text": [
      "[1, 2, 3, 5, 7, 11, 13, 17, 19, 23, 29, 31, 37, 41, 43, 47, 53, 59, 61, 67, 71, 73, 79, 83, 89, 97, 101, 103, 107, 109, 113, 127, 131, 137, 139, 149, 151, 157, 163, 167, 173, 179, 181, 191, 193, 197, 199, 211, 223, 227, 229, 233, 239, 241, 251, 257, 263, 269, 271, 277, 281, 283, 293, 307, 311, 313, 317, 331, 337, 347, 349, 353, 359, 367, 373, 379, 383, 389, 397, 401, 409, 419, 421, 431, 433, 439, 443, 449, 457, 461, 463, 467, 479, 487, 491, 499, 503, 509, 521, 523, 541, 547, 557, 563, 569, 571, 577, 587, 593, 599, 601, 607, 613, 617, 619, 631, 641, 643, 647, 653, 659, 661, 673, 677, 683, 691, 701, 709, 719, 727, 733, 739, 743, 751, 757, 761, 769, 773, 787, 797, 809, 811, 821, 823, 827, 829, 839, 853, 857, 859, 863, 877, 881, 883, 887, 907, 911, 919, 929, 937, 941, 947, 953, 967, 971, 977, 983, 991, 997, 1009, 1013, 1019, 1021, 1031, 1033, 1039, 1049, 1051, 1061, 1063, 1069, 1087, 1091, 1093, 1097, 1103, 1109, 1117, 1123, 1129, 1151, 1153, 1163, 1171, 1181, 1187, 1193, 1201, 1213, 1217, 1223, 1229, 1231, 1237, 1249, 1259, 1277, 1279, 1283, 1289, 1291, 1297]\n",
      "0.013349056243896484\n"
     ]
    }
   ],
   "source": [
    "from time import time\n",
    "def primos(n):\n",
    "    \"Función que retorna los números primos hasta n\"\n",
    "    primos = []\n",
    "    for i in range(1, n):\n",
    "        for x in range(2, i):\n",
    "            if i % x == 0:\n",
    "                break     #No se ejecuta el else\n",
    "        else:\n",
    "            primos.append(i)\n",
    "    return primos\n",
    "\n",
    "now = time()\n",
    "print(primos(1300))\n",
    "print(time() - now)"
   ]
  },
  {
   "cell_type": "code",
   "execution_count": 79,
   "metadata": {
    "collapsed": false,
    "slideshow": {
     "slide_type": "slide"
    }
   },
   "outputs": [
    {
     "name": "stdout",
     "output_type": "stream",
     "text": [
      "<generator object primos at 0x7f89cc53faf8>\n",
      "8.273124694824219e-05\n"
     ]
    }
   ],
   "source": [
    "from time import time\n",
    "def primos(n):\n",
    "    \"Función que genera los números primos hasta n\"\n",
    "    for i in range(1, n):\n",
    "        for x in range(2, i):\n",
    "            if i % x == 0:\n",
    "                break     #No se ejecuta el else\n",
    "        else:\n",
    "            yield i\n",
    "\n",
    "now = time()\n",
    "print(primos(1300))\n",
    "print(time() - now)"
   ]
  },
  {
   "cell_type": "markdown",
   "metadata": {
    "slideshow": {
     "slide_type": "slide"
    }
   },
   "source": [
    "# Objetos\n",
    "\n",
    "* Todo es un objeto\n",
    "* Todo es público\n",
    "* Herencia multiple\n",
    "* Métodos"
   ]
  },
  {
   "cell_type": "code",
   "execution_count": null,
   "metadata": {
    "collapsed": true,
    "slideshow": {
     "slide_type": "notes"
    }
   },
   "outputs": [],
   "source": [
    "Todo es un objeto\n",
    "No todo tiene que ser una clase!\n",
    "Propiedades \"al vuelo\"\n",
    "Todo es público\n",
    "Herencia (y múltiple)\n",
    "El mágico __init__ y variables de\n",
    "instancia\n",
    "• Métodos de instancia (“que hace el self\n",
    "ahi??”)"
   ]
  },
  {
   "cell_type": "code",
   "execution_count": null,
   "metadata": {
    "collapsed": true,
    "slideshow": {
     "slide_type": "notes"
    }
   },
   "outputs": [],
   "source": [
    "# Pilas incluidas\n",
    "Librería base MUY amplia, desde zip\n",
    "hasta pop3, xml, archivos csv,\n",
    "expresiones regulares, unit testing, ...\n",
    "• Muchas librerías de terceros, para lo\n",
    "que busquen y para lo que no\n",
    "busquen :D\n",
    "(comunicación con msn, estadísticas,\n",
    "pdf, bases de datos, ORM, ...)"
   ]
  },
  {
   "cell_type": "code",
   "execution_count": null,
   "metadata": {
    "collapsed": true,
    "slideshow": {
     "slide_type": "notes"
    }
   },
   "outputs": [],
   "source": [
    "Builtins\n",
    "Funciones útiles\n",
    "• Parecen “sueltas”, pero están en el\n",
    "módulo __builtins__\n",
    "• Ejemplos (algunas ya las vimos):\n",
    "o dir, len, str, range, min, max, sum,\n",
    "raw_input, file, map, reversed"
   ]
  },
  {
   "cell_type": "code",
   "execution_count": 16,
   "metadata": {
    "collapsed": false
   },
   "outputs": [
    {
     "name": "stdout",
     "output_type": "stream",
     "text": [
      "Vector(x=4, y=4)\n"
     ]
    },
    {
     "data": {
      "text/plain": [
       "Vector(x=3, y=9)"
      ]
     },
     "execution_count": 16,
     "metadata": {},
     "output_type": "execute_result"
    }
   ],
   "source": [
    "from collections import namedtuple\n",
    "\n",
    "Punto = namedtuple(\"Punto\", \"x y\")\n",
    "class Vector(Punto):\n",
    "    __slots__ = ()\n",
    "    def __add__(self, vector):\n",
    "        return Vector(self.x + vector.x, self.y + vector.y)\n",
    "    \n",
    "print(Vector(1, 2) + Vector(3, 2))\n",
    "Vector(2, 4) + Vector(1, 5)"
   ]
  },
  {
   "cell_type": "markdown",
   "metadata": {
    "slideshow": {
     "slide_type": "slide"
    }
   },
   "source": [
    "# Donde\n",
    "\n",
    "* Web\n",
    "* GUI\n",
    "* Juegos\n",
    "PyPI. Repositorio de paquetes de software de terceros para Python.\n",
    "Django. Framework de desarrollo web.\n",
    "CubicWeb. Framework de desarrollo web en plataforma Semántica.\n",
    "Pygame. Conjunto de módulos para la creación de videojuegos en dos dimensiones.\n",
    "Tkinter. Binding de la biblioteca gráfica Tcl/Tk para Python.\n",
    "PyGTK. Binding de la biblioteca gráfica GTK para Python.\n",
    "wxPython. Binding de la biblioteca gráfica wxWidgets para Python.\n",
    "PyQt. Binding de la biblioteca gráfica Qt para Python.\n",
    "PySide. Binding de la biblioteca gráfica Qt para Python por Nokia.\n",
    "Plone. Sistema de gestión de contenidos.\n",
    "Biopython, Colección de bibliotecas orientadas a la bioinformática para Python."
   ]
  },
  {
   "cell_type": "code",
   "execution_count": null,
   "metadata": {
    "collapsed": true,
    "slideshow": {
     "slide_type": "notes"
    }
   },
   "outputs": [],
   "source": [
    "# Interfaz gráfica en escritorio\n",
    "Varios frameworks. Los más usados, no\n",
    "incluídos con la librería base:\n",
    "o GTK\n",
    "o Wx\n",
    "o Qt\n",
    "• Separación entre codigo y pantallas.\n",
    "\n",
    "Varios frameworks, desde muuuy simples\n",
    "hasta más complejos:\n",
    "o Django\n",
    "o web2py\n",
    "o Pylons\n",
    "o TurboGears\n",
    "o Bottle\n",
    "o Flask\n",
    "o web.py"
   ]
  },
  {
   "cell_type": "code",
   "execution_count": null,
   "metadata": {
    "collapsed": true,
    "slideshow": {
     "slide_type": "notes"
    }
   },
   "outputs": [],
   "source": [
    "# Herramientas de Desarrollo\n",
    "No hay una sola, hay para elegir, y muchas.\n",
    "• Algunas integran todo (editor de código, diseño de pantallas, debug, etc...).\n",
    "• O se pueden usar herramientas separadas para cada cosa.\n",
    "\n",
    "# Soporte, aprendizaje, ayuda\n",
    "Mucha documentación y material\n",
    "abierto (hasta el código mismo del\n",
    "lenguaje :D)\n",
    "• Comunidades muy activas y abiertas a\n",
    "ayudar. En especial, PyAr\n",
    "(python.org.ar)\n",
    "Soporte, aprendizaje,"
   ]
  }
 ],
 "metadata": {
  "celltoolbar": "Slideshow",
  "kernelspec": {
   "display_name": "Python 3",
   "language": "python",
   "name": "python3"
  },
  "language_info": {
   "codemirror_mode": {
    "name": "ipython",
    "version": 3
   },
   "file_extension": ".py",
   "mimetype": "text/x-python",
   "name": "python",
   "nbconvert_exporter": "python",
   "pygments_lexer": "ipython3",
   "version": "3.4.3"
  }
 },
 "nbformat": 4,
 "nbformat_minor": 0
}
