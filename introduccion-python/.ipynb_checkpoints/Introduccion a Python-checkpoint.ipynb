{
 "cells": [
  {
   "cell_type": "markdown",
   "metadata": {
    "collapsed": false,
    "slideshow": {
     "slide_type": "slide"
    }
   },
   "source": [
    "# Introducción a Python\n",
    "\n",
    "![Python](images/python-logo.svg)"
   ]
  },
  {
   "cell_type": "markdown",
   "metadata": {
    "collapsed": true,
    "slideshow": {
     "slide_type": "slide"
    }
   },
   "source": [
    "# Python\n",
    "\n",
    "* Guido van Rosum / 1991 / Código abierto\n",
    "* Alto nivel\n",
    "* Interpretado\n",
    "* Tipado dinámico y fuerte\n",
    "* Multiparadigma (objetos, imperativo, funcional)\n",
    "* Multiplataforma"
   ]
  },
  {
   "cell_type": "markdown",
   "metadata": {
    "slideshow": {
     "slide_type": "fragment"
    }
   },
   "source": [
    "* Fácil y divertido\n",
    "* BBC “Monty Python’s Flying Circus”"
   ]
  },
  {
   "cell_type": "code",
   "execution_count": 3,
   "metadata": {
    "collapsed": false,
    "slideshow": {
     "slide_type": "subslide"
    }
   },
   "outputs": [],
   "source": [
    "import this"
   ]
  },
  {
   "cell_type": "markdown",
   "metadata": {
    "slideshow": {
     "slide_type": "slide"
    }
   },
   "source": [
    "# Interpretado\n",
    "\n",
    "* Interactivo\n",
    "> Hablar con el interprete\n",
    "\n",
    "* Scripting\n",
    "> Ejecutar un archivo"
   ]
  },
  {
   "cell_type": "markdown",
   "metadata": {
    "collapsed": true,
    "slideshow": {
     "slide_type": "subslide"
    }
   },
   "source": [
    "## Interactivo"
   ]
  },
  {
   "cell_type": "markdown",
   "metadata": {
    "collapsed": true,
    "slideshow": {
     "slide_type": "subslide"
    }
   },
   "source": [
    "## Scripting"
   ]
  },
  {
   "cell_type": "code",
   "execution_count": null,
   "metadata": {
    "collapsed": true,
    "slideshow": {
     "slide_type": "notes"
    }
   },
   "outputs": [],
   "source": [
    "hablar de modulos paquetes e import"
   ]
  },
  {
   "cell_type": "markdown",
   "metadata": {
    "slideshow": {
     "slide_type": "slide"
    }
   },
   "source": [
    "# Sintaxis\n",
    "\n",
    "* Indentación\n",
    "* Sentencia if else elif\n",
    "* Sentencia for\n",
    "* Sentencia while\n",
    "* Sentencias break, continue, y else en bucles\n",
    "* Sentencia pass"
   ]
  },
  {
   "cell_type": "markdown",
   "metadata": {
    "slideshow": {
     "slide_type": "subslide"
    }
   },
   "source": [
    "## Funciones"
   ]
  },
  {
   "cell_type": "code",
   "execution_count": 82,
   "metadata": {
    "collapsed": false,
    "slideshow": {
     "slide_type": "fragment"
    }
   },
   "outputs": [
    {
     "name": "stdout",
     "output_type": "stream",
     "text": [
      "1, 2, 3, 5, 7, 11, 13, 17, 19, 23, 29, 31, 37, 41, 43, 47, 53, 59, 61, 67, 71, 73, 79, 83, 89, 97, "
     ]
    }
   ],
   "source": [
    "def imprimir_primos(n):\n",
    "    \"Función que imprime los números primos hasta n\"\n",
    "    for i in range(1, n):\n",
    "        for x in range(2, i):\n",
    "            if i % x == 0:\n",
    "                break\n",
    "        else:\n",
    "            print(i, end=\", \")\n",
    "imprimir_primos(100)"
   ]
  },
  {
   "cell_type": "markdown",
   "metadata": {
    "slideshow": {
     "slide_type": "slide"
    }
   },
   "source": [
    "# Tipos\n",
    "\n",
    "* Números\n",
    "* None\n",
    "* Boleanos\n",
    "* Strings\n",
    "* Listas\n",
    "* Tuplas\n",
    "* Conjuntos\n",
    "* Diccionarios"
   ]
  },
  {
   "cell_type": "markdown",
   "metadata": {
    "slideshow": {
     "slide_type": "subslide"
    }
   },
   "source": [
    "## Listas\n",
    "Listas y strings\n",
    "Consultando:\n",
    "o Slicing (bastante útil)\n",
    "o Pertenencia\n",
    "• Modificandolas:\n",
    "o Borrado (bastante diferente)\n",
    "o Asignación (bastante útil)\n",
    "• List comprehensions"
   ]
  },
  {
   "cell_type": "code",
   "execution_count": 95,
   "metadata": {
    "collapsed": false,
    "slideshow": {
     "slide_type": "fragment"
    }
   },
   "outputs": [
    {
     "name": "stdout",
     "output_type": "stream",
     "text": [
      "[1, 2, 3, 5, 7, 11, 13, 17, 19, 23, 29, 31, 37, 41, 43, 47, 53, 59, 61, 67, 71, 73, 79, 83, 89, 97]\n",
      "Función que retorna los números primos hasta n\n"
     ]
    }
   ],
   "source": [
    "def retornar_primos(n):\n",
    "    \"Función que retorna los números primos hasta n\"\n",
    "    primos = [1]\n",
    "    for i in range(2, n):\n",
    "        for x in primos[1:]:\n",
    "            if i % x == 0:\n",
    "                break     #No se ejecuta el else\n",
    "        else:\n",
    "            primos.append(i)\n",
    "    return primos\n",
    "print(retornar_primos(100))"
   ]
  },
  {
   "cell_type": "markdown",
   "metadata": {
    "slideshow": {
     "slide_type": "subslide"
    }
   },
   "source": [
    "## Diccionarios"
   ]
  },
  {
   "cell_type": "code",
   "execution_count": null,
   "metadata": {
    "collapsed": true,
    "slideshow": {
     "slide_type": "notes"
    }
   },
   "outputs": [],
   "source": [
    "# Tipos basicos\n",
    "Números: igual que siempre\n",
    "• Nulo: None\n",
    "• Boleanos: True, False, (y guarda!!,\n",
    "muchas otras cosas no booleanas son\n",
    "verdaderas! Ej: if “hola”)\n",
    "• Strings: “a”, 'a', “””a“””, '''a'''\n",
    "• Conjuntos, Diccionarios, Tuplas\n",
    "• Listas merecen más detalle"
   ]
  },
  {
   "cell_type": "markdown",
   "metadata": {
    "slideshow": {
     "slide_type": "slide"
    }
   },
   "source": [
    "# Operaciones\n",
    "\n",
    "* Lógicas\n",
    "* Numericas\n",
    "* Comparacion"
   ]
  },
  {
   "cell_type": "code",
   "execution_count": null,
   "metadata": {
    "collapsed": true,
    "slideshow": {
     "slide_type": "notes"
    }
   },
   "outputs": [],
   "source": [
    "# Operaciones comunes\n",
    "Lógicas\n",
    "o and, or, not. Y devuelven valores!\n",
    "• Números:\n",
    "o + - / * ** %\n",
    "• Comparación:\n",
    "o las mismas de siempre\n",
    "• El polémico “is”\n",
    "Operaciones comunes"
   ]
  },
  {
   "cell_type": "markdown",
   "metadata": {
    "slideshow": {
     "slide_type": "slide"
    }
   },
   "source": [
    "# Funciones plus plus\n",
    "\n",
    "* Parámetros\n",
    "   * Posicionales\n",
    "   * Variables\n",
    "   * Nombrados\n",
    "* Lambdas\n",
    "* Documentacion"
   ]
  },
  {
   "cell_type": "markdown",
   "metadata": {
    "slideshow": {
     "slide_type": "subslide"
    }
   },
   "source": [
    "## Lambdas"
   ]
  },
  {
   "cell_type": "code",
   "execution_count": 103,
   "metadata": {
    "collapsed": false,
    "slideshow": {
     "slide_type": "fragment"
    }
   },
   "outputs": [
    {
     "name": "stdout",
     "output_type": "stream",
     "text": [
      "7\n",
      "42\n"
     ]
    }
   ],
   "source": [
    "def tabla_del(n):\n",
    "    return lambda x: x * n\n",
    "site_por = tabla_del(7)\n",
    "print(site_por(1))\n",
    "print(site_por(6))"
   ]
  },
  {
   "cell_type": "markdown",
   "metadata": {
    "slideshow": {
     "slide_type": "subslide"
    }
   },
   "source": [
    "## Documentación"
   ]
  },
  {
   "cell_type": "code",
   "execution_count": 98,
   "metadata": {
    "collapsed": false,
    "slideshow": {
     "slide_type": "fragment"
    }
   },
   "outputs": [
    {
     "name": "stdout",
     "output_type": "stream",
     "text": [
      "Help on function imprimir_primos in module __main__:\n",
      "\n",
      "imprimir_primos(n)\n",
      "    Función que imprime los números primos hasta n\n",
      "\n",
      "Help on function retornar_primos in module __main__:\n",
      "\n",
      "retornar_primos(n)\n",
      "    Función que retorna los números primos hasta n\n",
      "\n",
      "Help on function generar_primos in module __main__:\n",
      "\n",
      "generar_primos(n)\n",
      "    Función que genera los números primos hasta n\n",
      "\n"
     ]
    }
   ],
   "source": [
    "help(imprimir_primos)\n",
    "help(retornar_primos)\n",
    "help(generar_primos)"
   ]
  },
  {
   "cell_type": "code",
   "execution_count": null,
   "metadata": {
    "collapsed": true,
    "slideshow": {
     "slide_type": "notes"
    }
   },
   "outputs": [],
   "source": [
    "Valores o referencias\n",
    "Tipos inmutables:\n",
    "o “apunto a un nuevo objeto”\n",
    "o Números, strings, ...\n",
    "• Tipos mutables:\n",
    "o Pueden cambiar el valor y seguir\n",
    "siendo el mismo objeto\n",
    "o Listas, clases del usuario,\n",
    "diccionarios...\n",
    "Valores o Referencias???"
   ]
  },
  {
   "cell_type": "markdown",
   "metadata": {},
   "source": [
    "# Generadores"
   ]
  },
  {
   "cell_type": "code",
   "execution_count": 89,
   "metadata": {
    "collapsed": false,
    "slideshow": {
     "slide_type": "slide"
    }
   },
   "outputs": [],
   "source": [
    "def generar_primos(n):\n",
    "    \"Función que genera los números primos hasta n\"\n",
    "    for i in range(1, n):\n",
    "        for x in range(2, i):\n",
    "            if i % x == 0:\n",
    "                break     #No se ejecuta el else\n",
    "        else:\n",
    "            yield i"
   ]
  },
  {
   "cell_type": "code",
   "execution_count": 90,
   "metadata": {
    "collapsed": false,
    "slideshow": {
     "slide_type": "slide"
    }
   },
   "outputs": [
    {
     "name": "stdout",
     "output_type": "stream",
     "text": [
      "1, 2, 3, 5, 7, \n",
      "0.00023174285888671875\n",
      "[1, 2, 3, 5, 7]\n",
      "0.00017523765563964844\n",
      "<generator object generar_primos at 0x7f89cc5249d8>\n",
      "0.0001246929168701172\n"
     ]
    }
   ],
   "source": [
    "from time import time\n",
    "now = time()\n",
    "imprimir_primos(10), print()\n",
    "print(time() - now)\n",
    "now = time()\n",
    "print(retornar_primos(10))\n",
    "print(time() - now)\n",
    "now = time()\n",
    "print(generar_primos(10))\n",
    "print(time() - now)"
   ]
  },
  {
   "cell_type": "markdown",
   "metadata": {
    "slideshow": {
     "slide_type": "slide"
    }
   },
   "source": [
    "# Objetos\n",
    "\n",
    "* Todo es un objeto\n",
    "* Todo es público\n",
    "* Herencia multiple\n",
    "* Métodos\n",
    "* Properties (getters, setters)\n",
    "* Magics"
   ]
  },
  {
   "cell_type": "code",
   "execution_count": null,
   "metadata": {
    "collapsed": true
   },
   "outputs": [],
   "source": []
  },
  {
   "cell_type": "markdown",
   "metadata": {
    "collapsed": true,
    "slideshow": {
     "slide_type": "subslide"
    }
   },
   "source": [
    "## No todo tiene que ser una clase\n",
    "\n",
    "Propiedades \"al vuelo\"\n",
    "El mágico __init__ y variables de instancia\n",
    "• Métodos de instancia (“que hace el self ahi??”)"
   ]
  },
  {
   "cell_type": "code",
   "execution_count": null,
   "metadata": {
    "collapsed": true,
    "slideshow": {
     "slide_type": "notes"
    }
   },
   "outputs": [],
   "source": [
    "# Pilas incluidas\n",
    "Librería base MUY amplia, desde zip\n",
    "hasta pop3, xml, archivos csv,\n",
    "expresiones regulares, unit testing, ...\n",
    "• Muchas librerías de terceros, para lo\n",
    "que busquen y para lo que no\n",
    "busquen :D\n",
    "(comunicación con msn, estadísticas,\n",
    "pdf, bases de datos, ORM, ...)"
   ]
  },
  {
   "cell_type": "markdown",
   "metadata": {
    "collapsed": true,
    "slideshow": {
     "slide_type": "slide"
    }
   },
   "source": [
    "# Builtins"
   ]
  },
  {
   "cell_type": "code",
   "execution_count": 3,
   "metadata": {
    "collapsed": false,
    "slideshow": {
     "slide_type": "fragment"
    }
   },
   "outputs": [
    {
     "name": "stdout",
     "output_type": "stream",
     "text": [
      "['ArithmeticError', 'AssertionError', 'AttributeError', 'BaseException', 'BlockingIOError', 'BrokenPipeError', 'BufferError', 'BytesWarning', 'ChildProcessError', 'ConnectionAbortedError', 'ConnectionError', 'ConnectionRefusedError', 'ConnectionResetError', 'DeprecationWarning', 'EOFError', 'Ellipsis', 'EnvironmentError', 'Exception', 'False', 'FileExistsError', 'FileNotFoundError', 'FloatingPointError', 'FutureWarning', 'GeneratorExit', 'IOError', 'ImportError', 'ImportWarning', 'IndentationError', 'IndexError', 'InterruptedError', 'IsADirectoryError', 'KeyError', 'KeyboardInterrupt', 'LookupError', 'MemoryError', 'NameError', 'None', 'NotADirectoryError', 'NotImplemented', 'NotImplementedError', 'OSError', 'OverflowError', 'PendingDeprecationWarning', 'PermissionError', 'ProcessLookupError', 'ReferenceError', 'ResourceWarning', 'RuntimeError', 'RuntimeWarning', 'StopIteration', 'SyntaxError', 'SyntaxWarning', 'SystemError', 'SystemExit', 'TabError', 'TimeoutError', 'True', 'TypeError', 'UnboundLocalError', 'UnicodeDecodeError', 'UnicodeEncodeError', 'UnicodeError', 'UnicodeTranslateError', 'UnicodeWarning', 'UserWarning', 'ValueError', 'Warning', 'ZeroDivisionError', '__IPYTHON__', '__IPYTHON__active', '__build_class__', '__debug__', '__doc__', '__import__', '__loader__', '__name__', '__package__', '__spec__', 'abs', 'all', 'any', 'ascii', 'bin', 'bool', 'bytearray', 'bytes', 'callable', 'chr', 'classmethod', 'compile', 'complex', 'copyright', 'credits', 'delattr', 'dict', 'dir', 'divmod', 'dreload', 'enumerate', 'eval', 'exec', 'filter', 'float', 'format', 'frozenset', 'get_ipython', 'getattr', 'globals', 'hasattr', 'hash', 'help', 'hex', 'id', 'input', 'int', 'isinstance', 'issubclass', 'iter', 'len', 'license', 'list', 'locals', 'map', 'max', 'memoryview', 'min', 'next', 'object', 'oct', 'open', 'ord', 'pow', 'print', 'property', 'range', 'repr', 'reversed', 'round', 'set', 'setattr', 'slice', 'sorted', 'staticmethod', 'str', 'sum', 'super', 'tuple', 'type', 'vars', 'zip']\n"
     ]
    }
   ],
   "source": [
    "print(dir(__builtins__))"
   ]
  },
  {
   "cell_type": "code",
   "execution_count": 16,
   "metadata": {
    "collapsed": false
   },
   "outputs": [
    {
     "name": "stdout",
     "output_type": "stream",
     "text": [
      "Vector(x=4, y=4)\n"
     ]
    },
    {
     "data": {
      "text/plain": [
       "Vector(x=3, y=9)"
      ]
     },
     "execution_count": 16,
     "metadata": {},
     "output_type": "execute_result"
    }
   ],
   "source": [
    "from collections import namedtuple\n",
    "\n",
    "Punto = namedtuple(\"Punto\", \"x y\")\n",
    "class Vector(Punto):\n",
    "    __slots__ = ()\n",
    "    def __add__(self, vector):\n",
    "        return Vector(self.x + vector.x, self.y + vector.y)\n",
    "    \n",
    "print(Vector(1, 2) + Vector(3, 2))\n",
    "Vector(2, 4) + Vector(1, 5)"
   ]
  },
  {
   "cell_type": "markdown",
   "metadata": {
    "slideshow": {
     "slide_type": "slide"
    }
   },
   "source": [
    "# Donde\n",
    "\n",
    "* Web\n",
    "* GUI\n",
    "* Juegos\n",
    "PyPI. Repositorio de paquetes de software de terceros para Python.\n",
    "Django. Framework de desarrollo web.\n",
    "CubicWeb. Framework de desarrollo web en plataforma Semántica.\n",
    "Pygame. Conjunto de módulos para la creación de videojuegos en dos dimensiones.\n",
    "Tkinter. Binding de la biblioteca gráfica Tcl/Tk para Python.\n",
    "PyGTK. Binding de la biblioteca gráfica GTK para Python.\n",
    "wxPython. Binding de la biblioteca gráfica wxWidgets para Python.\n",
    "PyQt. Binding de la biblioteca gráfica Qt para Python.\n",
    "PySide. Binding de la biblioteca gráfica Qt para Python por Nokia.\n",
    "Plone. Sistema de gestión de contenidos.\n",
    "Biopython, Colección de bibliotecas orientadas a la bioinformática para Python."
   ]
  },
  {
   "cell_type": "code",
   "execution_count": null,
   "metadata": {
    "collapsed": true,
    "slideshow": {
     "slide_type": "notes"
    }
   },
   "outputs": [],
   "source": [
    "# Interfaz gráfica en escritorio\n",
    "Varios frameworks. Los más usados, no\n",
    "incluídos con la librería base:\n",
    "o GTK\n",
    "o Wx\n",
    "o Qt\n",
    "• Separación entre codigo y pantallas.\n",
    "\n",
    "Varios frameworks, desde muuuy simples\n",
    "hasta más complejos:\n",
    "o Django\n",
    "o web2py\n",
    "o Pylons\n",
    "o TurboGears\n",
    "o Bottle\n",
    "o Flask\n",
    "o web.py"
   ]
  },
  {
   "cell_type": "code",
   "execution_count": null,
   "metadata": {
    "collapsed": true,
    "slideshow": {
     "slide_type": "notes"
    }
   },
   "outputs": [],
   "source": [
    "# Herramientas de Desarrollo\n",
    "No hay una sola, hay para elegir, y muchas.\n",
    "• Algunas integran todo (editor de código, diseño de pantallas, debug, etc...).\n",
    "• O se pueden usar herramientas separadas para cada cosa.\n",
    "\n",
    "# Soporte, aprendizaje, ayuda\n",
    "Mucha documentación y material\n",
    "abierto (hasta el código mismo del\n",
    "lenguaje :D)\n",
    "• Comunidades muy activas y abiertas a\n",
    "ayudar. En especial, PyAr\n",
    "(python.org.ar)\n",
    "Soporte, aprendizaje,"
   ]
  }
 ],
 "metadata": {
  "celltoolbar": "Slideshow",
  "kernelspec": {
   "display_name": "Python 3",
   "language": "python",
   "name": "python3"
  },
  "language_info": {
   "codemirror_mode": {
    "name": "ipython",
    "version": 3
   },
   "file_extension": ".py",
   "mimetype": "text/x-python",
   "name": "python",
   "nbconvert_exporter": "python",
   "pygments_lexer": "ipython3",
   "version": "3.4.3"
  }
 },
 "nbformat": 4,
 "nbformat_minor": 0
}
